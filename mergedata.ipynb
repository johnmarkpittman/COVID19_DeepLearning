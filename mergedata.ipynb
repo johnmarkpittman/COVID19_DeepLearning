{
 "nbformat": 4,
 "nbformat_minor": 2,
 "metadata": {
  "language_info": {
   "name": "python",
   "codemirror_mode": {
    "name": "ipython",
    "version": 3
   },
   "version": "3.7.4-final"
  },
  "orig_nbformat": 2,
  "file_extension": ".py",
  "mimetype": "text/x-python",
  "name": "python",
  "npconvert_exporter": "python",
  "pygments_lexer": "ipython3",
  "version": 3,
  "kernelspec": {
   "name": "python37464bitbaseconda7c09497a89f74b7988b290ea6a632478",
   "display_name": "Python 3.7.4 64-bit ('base': conda)"
  }
 },
 "cells": [
  {
   "cell_type": "code",
   "execution_count": 1,
   "metadata": {},
   "outputs": [],
   "source": [
    "import numpy as np\n",
    "import pandas as pd"
   ]
  },
  {
   "cell_type": "code",
   "execution_count": 2,
   "metadata": {},
   "outputs": [],
   "source": [
    "shelter = pd.read_csv(\"shelterinplace.csv\") # scraped via \"webscraping.ipynb\" notebook, which pulls from NYTimes\n",
    "data_counties = pd.read_csv(\"us-counties.csv\") # pulled from NYTimes github page, https://github.com/nytimes/covid-19-data\n",
    "city_county = pd.read_csv(\"city_county.csv\") # Manually created to handle city/county discrepancies between two files"
   ]
  },
  {
   "cell_type": "code",
   "execution_count": 3,
   "metadata": {},
   "outputs": [],
   "source": [
    "# Convert dates to datetime for comparison\n",
    "shelter['date_initiated'] = pd.to_datetime(shelter['date'])\n",
    "data_counties['date'] = pd.to_datetime(data_counties['date'])\n",
    "shelter.drop('date',axis=1, inplace=True)\n",
    "\n",
    "# Replace cities with counties\n",
    "df_join = shelter.merge(city_county, how='left', left_on=['state','area'], right_on=['state','area'])\n",
    "shelter.loc[df_join['county'].notnull(),'area'] = df_join.loc[df_join['county'].notnull(),'county']\n",
    "\n",
    "# Remove the \" County\" suffix from area\n",
    "shelter['area'] = shelter['area'].str.replace(\" County\",\"\")"
   ]
  },
  {
   "cell_type": "code",
   "execution_count": 8,
   "metadata": {},
   "outputs": [],
   "source": [
    "# Join county-level data\n",
    "county_level = shelter.query('area !=\"ALL\"')\n",
    "\n",
    "# Merge to county data set\n",
    "final = data_counties.merge(county_level.drop(['population'],axis=1), how=\"left\", left_on=[\"county\",\"state\"],right_on=[\"area\",\"state\"])"
   ]
  },
  {
   "cell_type": "code",
   "execution_count": 9,
   "metadata": {},
   "outputs": [],
   "source": [
    "# Join state-level data\n",
    "state_level = shelter.query('area == \"ALL\"')\n",
    "\n",
    "state_subset = final.merge(state_level.drop(['area','population'],axis=1), how=\"left\", left_on=\"state\",right_on=\"state\")\n",
    "\n",
    "final.loc[final[\"type\"].isnull(),\"type\"] = state_subset.loc[state_subset['area'].isnull(),'type_y']\n",
    "final.loc[final[\"date_initiated\"].isnull(),\"date_initiated\"] = state_subset.loc[state_subset['area'].isnull(),'date_initiated_y']"
   ]
  },
  {
   "cell_type": "code",
   "execution_count": 10,
   "metadata": {},
   "outputs": [],
   "source": [
    "# Calculated \"Stay at home\" binary\n",
    "final.drop(\"area\",axis=1,inplace=True)\n",
    "\n",
    "conditions = [\n",
    "    (final['date'] < final['date_initiated']),\n",
    "    (final['date'] >= final['date_initiated'])]\n",
    "choices = [0,1]\n",
    "final['SAH'] = np.select(conditions, choices)\n",
    "\n",
    "final[[\"date\",'county','state','cases','deaths','type','SAH']].to_csv('final.csv',index=False)"
   ]
  }
 ]
}