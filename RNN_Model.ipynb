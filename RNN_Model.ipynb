{
 "cells": [
  {
   "cell_type": "code",
   "execution_count": 89,
   "metadata": {},
   "outputs": [],
   "source": [
    "# Import required packages/modules\n",
    "import os\n",
    "import matplotlib.pyplot as plt\n",
    "import numpy as np\n",
    "import pandas as pd\n",
    "from random import sample\n",
    "import math\n",
    "from itertools import chain\n",
    "import tensorflow as tf\n",
    "from keras.regularizers import l2\n",
    "from tensorflow.keras import layers\n",
    "from tensorflow.keras import models\n",
    "from tensorflow.keras.datasets import imdb\n",
    "from tensorflow.keras.preprocessing import sequence"
   ]
  },
  {
   "cell_type": "code",
   "execution_count": 87,
   "metadata": {},
   "outputs": [],
   "source": [
    "# Define features for later models\n",
    "max_features = 15000 + 3\n",
    "max_len = 10\n",
    "batch_size = 32"
   ]
  },
  {
   "cell_type": "code",
   "execution_count": 6,
   "metadata": {},
   "outputs": [],
   "source": [
    "# Set working directory and import csv\n",
    "os.chdir(\"C:/Users/LynchZ20/Desktop/Courses/MSDS/SY_S2/ML/FinalProject/COVID19_DeepLearning/\")\n",
    "dd = pd.read_csv(\"final.csv\")"
   ]
  },
  {
   "cell_type": "code",
   "execution_count": 115,
   "metadata": {},
   "outputs": [
    {
     "data": {
      "text/plain": [
       "89"
      ]
     },
     "execution_count": 115,
     "metadata": {},
     "output_type": "execute_result"
    }
   ],
   "source": [
    "len(dd['deaths'].unique())"
   ]
  },
  {
   "cell_type": "code",
   "execution_count": 13,
   "metadata": {},
   "outputs": [
    {
     "name": "stdout",
     "output_type": "stream",
     "text": [
      "<class 'pandas.core.frame.DataFrame'>\n",
      "RangeIndex: 26403 entries, 0 to 26402\n",
      "Data columns (total 7 columns):\n",
      "date      26403 non-null object\n",
      "county    26403 non-null object\n",
      "state     26403 non-null object\n",
      "cases     26403 non-null int64\n",
      "deaths    26403 non-null int64\n",
      "type      21368 non-null object\n",
      "SAH       26403 non-null int64\n",
      "dtypes: int64(3), object(4)\n",
      "memory usage: 1.4+ MB\n"
     ]
    }
   ],
   "source": [
    "# Look at summary info\n",
    "dd.info()"
   ]
  },
  {
   "cell_type": "code",
   "execution_count": 140,
   "metadata": {},
   "outputs": [
    {
     "data": {
      "text/html": [
       "<div>\n",
       "<style scoped>\n",
       "    .dataframe tbody tr th:only-of-type {\n",
       "        vertical-align: middle;\n",
       "    }\n",
       "\n",
       "    .dataframe tbody tr th {\n",
       "        vertical-align: top;\n",
       "    }\n",
       "\n",
       "    .dataframe thead th {\n",
       "        text-align: right;\n",
       "    }\n",
       "</style>\n",
       "<table border=\"1\" class=\"dataframe\">\n",
       "  <thead>\n",
       "    <tr style=\"text-align: right;\">\n",
       "      <th></th>\n",
       "      <th>value</th>\n",
       "      <th>index</th>\n",
       "    </tr>\n",
       "  </thead>\n",
       "  <tbody>\n",
       "    <tr>\n",
       "      <td>0</td>\n",
       "      <td>0</td>\n",
       "      <td>0</td>\n",
       "    </tr>\n",
       "    <tr>\n",
       "      <td>1</td>\n",
       "      <td>1</td>\n",
       "      <td>1</td>\n",
       "    </tr>\n",
       "    <tr>\n",
       "      <td>2</td>\n",
       "      <td>2</td>\n",
       "      <td>2</td>\n",
       "    </tr>\n",
       "    <tr>\n",
       "      <td>3</td>\n",
       "      <td>3</td>\n",
       "      <td>3</td>\n",
       "    </tr>\n",
       "    <tr>\n",
       "      <td>4</td>\n",
       "      <td>4</td>\n",
       "      <td>4</td>\n",
       "    </tr>\n",
       "    <tr>\n",
       "      <td>...</td>\n",
       "      <td>...</td>\n",
       "      <td>...</td>\n",
       "    </tr>\n",
       "    <tr>\n",
       "      <td>84</td>\n",
       "      <td>672</td>\n",
       "      <td>84</td>\n",
       "    </tr>\n",
       "    <tr>\n",
       "      <td>85</td>\n",
       "      <td>776</td>\n",
       "      <td>85</td>\n",
       "    </tr>\n",
       "    <tr>\n",
       "      <td>86</td>\n",
       "      <td>914</td>\n",
       "      <td>86</td>\n",
       "    </tr>\n",
       "    <tr>\n",
       "      <td>87</td>\n",
       "      <td>1096</td>\n",
       "      <td>87</td>\n",
       "    </tr>\n",
       "    <tr>\n",
       "      <td>88</td>\n",
       "      <td>1374</td>\n",
       "      <td>88</td>\n",
       "    </tr>\n",
       "  </tbody>\n",
       "</table>\n",
       "<p>89 rows × 2 columns</p>\n",
       "</div>"
      ],
      "text/plain": [
       "    value  index\n",
       "0       0      0\n",
       "1       1      1\n",
       "2       2      2\n",
       "3       3      3\n",
       "4       4      4\n",
       "..    ...    ...\n",
       "84    672     84\n",
       "85    776     85\n",
       "86    914     86\n",
       "87   1096     87\n",
       "88   1374     88\n",
       "\n",
       "[89 rows x 2 columns]"
      ]
     },
     "execution_count": 140,
     "metadata": {},
     "output_type": "execute_result"
    }
   ],
   "source": [
    "field = 'deaths'\n",
    "ind = dd[field].unique()\n",
    "ind.sort()\n",
    "ind = pd.DataFrame({'value': ind, 'index': [i for i in range(len(ind))]})\n",
    "ind"
   ]
  },
  {
   "cell_type": "code",
   "execution_count": 149,
   "metadata": {},
   "outputs": [
    {
     "data": {
      "text/plain": [
       "[85, 86, 87]"
      ]
     },
     "execution_count": 149,
     "metadata": {},
     "output_type": "execute_result"
    }
   ],
   "source": [
    "[int(x) for x in map(lambda x: ind.loc[ind['value'] == x,'index'], [776, 914, 1096])]"
   ]
  },
  {
   "cell_type": "code",
   "execution_count": 150,
   "metadata": {},
   "outputs": [],
   "source": [
    "# Create a feature and label set w/ padding by county\n",
    "counties = dd['county'].unique()\n",
    "counties.sort()\n",
    "\n",
    "field = 'deaths'\n",
    "ind = dd[field].unique()\n",
    "ind.sort()\n",
    "ind = pd.DataFrame({'value': ind, 'index': [i for i in range(len(ind))]})\n",
    "\n",
    "mm = max(dd['county'].value_counts())\n",
    "feature = []\n",
    "for county in counties:\n",
    "    tmp = list(dd.loc[dd['county'] == county,field])\n",
    "    pad = mm - len(tmp)\n",
    "    if pad > 0:\n",
    "        tmp.insert(0, list(np.repeat(0, mm - len(tmp))))\n",
    "        new_tmp = []\n",
    "        for obj in tmp:\n",
    "            if type(obj) == list:\n",
    "                for item in obj:\n",
    "                    new_tmp.append(item)\n",
    "            else:\n",
    "                new_tmp.append(obj)\n",
    "    new_tmp = [int(x) for x in map(lambda x: ind.loc[ind['value'] == x,'index'],new_tmp)]\n",
    "    feature.append(new_tmp)\n",
    "feature = np.array(feature)\n",
    "\n",
    "label = []\n",
    "for county in counties:\n",
    "    tmp = dd.loc[dd['county'] == county,'SAH']\n",
    "    label.append(max(list(tmp)))\n",
    "label = np.array(label)"
   ]
  },
  {
   "cell_type": "code",
   "execution_count": 151,
   "metadata": {},
   "outputs": [],
   "source": [
    "# Split into training and validation\n",
    "train_rows = sample(range(feature.shape[0]), math.floor(0.7*feature.shape[0]))\n",
    "test_rows = [i for i in range(feature.shape[0]) if i not in train_rows]\n",
    "\n",
    "x_train = np.array(feature[train_rows])\n",
    "y_train = np.array(label[train_rows])\n",
    "x_test = np.array(feature[test_rows])\n",
    "y_test = np.array(label[test_rows])\n",
    "\n",
    "x_train = tf.convert_to_tensor(x_train, tf.float32)\n",
    "x_test = tf.convert_to_tensor(x_test, tf.float32)"
   ]
  },
  {
   "cell_type": "code",
   "execution_count": 160,
   "metadata": {},
   "outputs": [],
   "source": [
    "# A) Shallow Model\n",
    "model = models.Sequential()\n",
    "model.add(layers.Embedding(92, 8))\n",
    "model.add(layers.SimpleRNN(8, dropout=0.3, recurrent_dropout=0.2, kernel_regularizer=l2(0.1), return_sequences=True))\n",
    "model.add(layers.SimpleRNN(8, dropout=0.3, recurrent_dropout=0.2, kernel_regularizer=l2(0.1), return_sequences=True))\n",
    "model.add(layers.Dense(1, activation='sigmoid'))"
   ]
  },
  {
   "cell_type": "code",
   "execution_count": 161,
   "metadata": {},
   "outputs": [],
   "source": [
    "model.compile(optimizer='rmsprop', loss='binary_crossentropy', metrics=['accuracy'])"
   ]
  },
  {
   "cell_type": "code",
   "execution_count": 162,
   "metadata": {},
   "outputs": [
    {
     "name": "stdout",
     "output_type": "stream",
     "text": [
      "Train on 981 samples, validate on 421 samples\n",
      "Epoch 1/10\n",
      "981/981 [==============================] - 40s 40ms/sample - loss: 1.8448 - accuracy: 0.5817 - val_loss: 1.5203 - val_accuracy: 0.7268\n",
      "Epoch 2/10\n",
      "981/981 [==============================] - 34s 34ms/sample - loss: 1.3651 - accuracy: 0.6455 - val_loss: 1.1242 - val_accuracy: 0.7268\n",
      "Epoch 3/10\n",
      "981/981 [==============================] - 33s 34ms/sample - loss: 1.0402 - accuracy: 0.6709 - val_loss: 0.8669 - val_accuracy: 0.7268\n",
      "Epoch 4/10\n",
      "981/981 [==============================] - 34s 35ms/sample - loss: 0.8188 - accuracy: 0.6892 - val_loss: 0.7083 - val_accuracy: 0.7268\n",
      "Epoch 5/10\n",
      "981/981 [==============================] - 35s 36ms/sample - loss: 0.6926 - accuracy: 0.6936 - val_loss: 0.6285 - val_accuracy: 0.7268\n",
      "Epoch 6/10\n",
      "981/981 [==============================] - 36s 37ms/sample - loss: 0.6437 - accuracy: 0.6929 - val_loss: 0.5988 - val_accuracy: 0.7268\n",
      "Epoch 7/10\n",
      "981/981 [==============================] - 37s 38ms/sample - loss: 0.6200 - accuracy: 0.6937 - val_loss: 0.5914 - val_accuracy: 0.7268\n",
      "Epoch 8/10\n",
      "981/981 [==============================] - 37s 38ms/sample - loss: 0.6218 - accuracy: 0.6942 - val_loss: 0.5884 - val_accuracy: 0.7268\n",
      "Epoch 9/10\n",
      "981/981 [==============================] - 37s 38ms/sample - loss: 0.6185 - accuracy: 0.6942 - val_loss: 0.5882 - val_accuracy: 0.7268\n",
      "Epoch 10/10\n",
      "981/981 [==============================] - 37s 38ms/sample - loss: 0.6264 - accuracy: 0.6942 - val_loss: 0.5888 - val_accuracy: 0.7268\n"
     ]
    }
   ],
   "source": [
    "history = model.fit(x_train, y_train,\n",
    "                    epochs=10,\n",
    "                    batch_size=11,\n",
    "                    validation_data=(x_test, y_test)\n",
    "                   )"
   ]
  },
  {
   "cell_type": "code",
   "execution_count": 159,
   "metadata": {},
   "outputs": [
    {
     "data": {
      "image/png": "[encoded data removed]",
      "text/plain": [
       "<Figure size 432x288 with 1 Axes>"
      ]
     },
     "metadata": {
      "needs_background": "light"
     },
     "output_type": "display_data"
    },
    {
     "data": {
      "image/png": "[encoded data removed]",
      "text/plain": [
       "<Figure size 432x288 with 1 Axes>"
      ]
     },
     "metadata": {
      "needs_background": "light"
     },
     "output_type": "display_data"
    }
   ],
   "source": [
    "accuracy = history.history['accuracy']\n",
    "val_accuracy = history.history['val_accuracy']\n",
    "loss = history.history['loss']\n",
    "val_loss = history.history['val_loss']\n",
    "\n",
    "epochs = range(1, len(accuracy) + 1)\n",
    "\n",
    "plt.plot(epochs, loss, 'bo', label='Training loss')\n",
    "plt.plot(epochs, val_loss, 'orange', label='Validation loss')\n",
    "plt.title('Training and validation loss')\n",
    "plt.legend()\n",
    "\n",
    "plt.figure()\n",
    "\n",
    "plt.plot(epochs, accuracy, 'bo', label='Training accuracy')\n",
    "plt.plot(epochs, val_accuracy, 'orange', label='Validation accuracy')\n",
    "plt.title('Training and validation accuracy')\n",
    "plt.legend()\n",
    "\n",
    "plt.show()"
   ]
  },
  {
   "cell_type": "code",
   "execution_count": null,
   "metadata": {},
   "outputs": [],
   "source": []
  }
 ],
 "metadata": {
  "kernelspec": {
   "display_name": "Python 3",
   "language": "python",
   "name": "python3"
  },
  "language_info": {
   "codemirror_mode": {
    "name": "ipython",
    "version": 3
   },
   "file_extension": ".py",
   "mimetype": "text/x-python",
   "name": "python",
   "nbconvert_exporter": "python",
   "pygments_lexer": "ipython3",
   "version": "3.7.4"
  }
 },
 "nbformat": 4,
 "nbformat_minor": 4
}
