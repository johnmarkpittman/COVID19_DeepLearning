{
 "cells": [
  {
   "cell_type": "code",
   "execution_count": 1,
   "metadata": {},
   "outputs": [],
   "source": [
    "# Import required packages/modules\n",
    "import os\n",
    "import matplotlib.pyplot as plt\n",
    "import numpy as np\n",
    "import pandas as pd\n",
    "from random import sample\n",
    "import math\n",
    "from itertools import chain\n",
    "import tensorflow as tf\n",
    "from keras.regularizers import l2\n",
    "from tensorflow.keras import layers\n",
    "from tensorflow.keras import models\n",
    "from tensorflow.keras.datasets import imdb\n",
    "from tensorflow.keras.preprocessing import sequence"
   ]
  },
  {
   "cell_type": "code",
   "execution_count": 2,
   "metadata": {},
   "outputs": [],
   "source": [
    "# Define features for later models\n",
    "max_features = 89 + 3\n",
    "max_len = 10\n",
    "batch_size = 32"
   ]
  },
  {
   "cell_type": "code",
   "execution_count": 3,
   "metadata": {},
   "outputs": [],
   "source": [
    "# Set working directory and import csv\n",
    "os.chdir(\"C:/Users/LynchZ20/Desktop/Courses/MSDS/SY_S2/ML/FinalProject/COVID19_DeepLearning/\")\n",
    "dd = pd.read_csv(\"final.csv\")"
   ]
  },
  {
   "cell_type": "code",
   "execution_count": 4,
   "metadata": {},
   "outputs": [
    {
     "name": "stdout",
     "output_type": "stream",
     "text": [
      "<class 'pandas.core.frame.DataFrame'>\n",
      "RangeIndex: 26403 entries, 0 to 26402\n",
      "Data columns (total 7 columns):\n",
      "date      26403 non-null object\n",
      "county    26403 non-null object\n",
      "state     26403 non-null object\n",
      "cases     26403 non-null int64\n",
      "deaths    26403 non-null int64\n",
      "type      21368 non-null object\n",
      "SAH       26403 non-null int64\n",
      "dtypes: int64(3), object(4)\n",
      "memory usage: 1.4+ MB\n"
     ]
    }
   ],
   "source": [
    "# Look at summary info\n",
    "dd.info()"
   ]
  },
  {
   "cell_type": "code",
   "execution_count": 10,
   "metadata": {},
   "outputs": [],
   "source": [
    "# Define unique set of counties\n",
    "counties = dd['county'].unique()\n",
    "counties.sort()\n",
    "\n",
    "# Create index table of each value in the independent variable field selected\n",
    "field = 'deaths'\n",
    "ind = dd[field].unique()\n",
    "ind.sort()\n",
    "ind = pd.DataFrame({'value': ind, 'index': [i for i in range(len(ind))]})\n",
    "\n",
    "# Create a max value for padding purposes\n",
    "mm = max(dd['county'].value_counts())\n",
    "feature = []\n",
    "# Loop through each county\n",
    "for county in counties:\n",
    "    # Create a temporary list of the independent variable field for the current county in the for loop\n",
    "    tmp = list(dd.loc[dd['county'] == county,field])\n",
    "    # Find how many 0s to pad\n",
    "    pad = mm - len(tmp)\n",
    "    if pad > 0:\n",
    "        # When the pad is >0 add in the 0s to the beginning of the list\n",
    "        tmp.insert(0, list(np.repeat(0, mm - len(tmp))))\n",
    "        # After inserting 0s, we now have a list within a list\n",
    "        # Use this next loop to flatten the list so it is only a list of numbers\n",
    "        new_tmp = []\n",
    "        for obj in tmp:\n",
    "            if type(obj) == list:\n",
    "                for item in obj:\n",
    "                    new_tmp.append(item)\n",
    "            else:\n",
    "                new_tmp.append(obj)\n",
    "    # Instead of the actual values in the independent variable field, we need their respective indexes\n",
    "    # This map/lambda looks up the indexes from the 'ind' table for each value in the new_tmp list\n",
    "    new_tmp = [int(x) for x in map(lambda x: ind.loc[ind['value'] == x,'index'],new_tmp)]\n",
    "    # Add each list after each iteration of the for loop to the feature list\n",
    "    feature.append(new_tmp)\n",
    "feature = np.array(feature)\n",
    "# Should now have an array of A x B, where A = # of counties & B = # of values in the independent variable field\n",
    "\n",
    "# Create a label object with 1s (for issued stay-at-home) and 0s (for did not issue stay-at-home) for each county in 'counties'\n",
    "label = []\n",
    "for county in counties:\n",
    "    tmp = dd.loc[dd['county'] == county,'SAH']\n",
    "    label.append(max(list(tmp)))\n",
    "label = np.array(label)"
   ]
  },
  {
   "cell_type": "code",
   "execution_count": 11,
   "metadata": {},
   "outputs": [],
   "source": [
    "# Split into training and validation @70/30\n",
    "train_rows = sample(range(feature.shape[0]), math.floor(0.7*feature.shape[0]))\n",
    "test_rows = [i for i in range(feature.shape[0]) if i not in train_rows]\n",
    "\n",
    "x_train = np.array(feature[train_rows])\n",
    "y_train = np.array(label[train_rows])\n",
    "x_test = np.array(feature[test_rows])\n",
    "y_test = np.array(label[test_rows])\n",
    "\n",
    "x_train = tf.convert_to_tensor(x_train, tf.float32)\n",
    "x_test = tf.convert_to_tensor(x_test, tf.float32)"
   ]
  },
  {
   "cell_type": "code",
   "execution_count": 12,
   "metadata": {},
   "outputs": [],
   "source": [
    "# Simple RNN model\n",
    "model = models.Sequential()\n",
    "model.add(layers.Embedding(ind.shape[0]+3, 8))\n",
    "model.add(layers.SimpleRNN(8, dropout=0.3, recurrent_dropout=0.2, kernel_regularizer=l2(0.1), return_sequences=True))\n",
    "model.add(layers.SimpleRNN(8, dropout=0.3, recurrent_dropout=0.2, kernel_regularizer=l2(0.1), return_sequences=True))\n",
    "model.add(layers.Dense(1, activation='sigmoid'))"
   ]
  },
  {
   "cell_type": "code",
   "execution_count": 13,
   "metadata": {},
   "outputs": [],
   "source": [
    "model.compile(optimizer='rmsprop', loss='binary_crossentropy', metrics=['accuracy'])"
   ]
  },
  {
   "cell_type": "code",
   "execution_count": 14,
   "metadata": {},
   "outputs": [
    {
     "name": "stdout",
     "output_type": "stream",
     "text": [
      "Train on 981 samples, validate on 421 samples\n",
      "Epoch 1/10\n",
      "981/981 [==============================] - 26s 26ms/sample - loss: 1.7636 - accuracy: 0.6360 - val_loss: 1.4614 - val_accuracy: 0.7150\n",
      "Epoch 2/10\n",
      "981/981 [==============================] - 22s 23ms/sample - loss: 1.3061 - accuracy: 0.6749 - val_loss: 1.0913 - val_accuracy: 0.7150\n",
      "Epoch 3/10\n",
      "981/981 [==============================] - 36s 37ms/sample - loss: 0.9876 - accuracy: 0.6853 - val_loss: 0.8519 - val_accuracy: 0.7150\n",
      "Epoch 4/10\n",
      "981/981 [==============================] - 24s 24ms/sample - loss: 0.8000 - accuracy: 0.6969 - val_loss: 0.7137 - val_accuracy: 0.7150\n",
      "Epoch 5/10\n",
      "981/981 [==============================] - 24s 25ms/sample - loss: 0.6956 - accuracy: 0.6990 - val_loss: 0.6436 - val_accuracy: 0.7150\n",
      "Epoch 6/10\n",
      "981/981 [==============================] - 32s 32ms/sample - loss: 0.6482 - accuracy: 0.6995 - val_loss: 0.6134 - val_accuracy: 0.7150\n",
      "Epoch 7/10\n",
      "981/981 [==============================] - 28s 29ms/sample - loss: 0.6270 - accuracy: 0.6993 - val_loss: 0.6032 - val_accuracy: 0.7150\n",
      "Epoch 8/10\n",
      "981/981 [==============================] - 24s 24ms/sample - loss: 0.6169 - accuracy: 0.6993 - val_loss: 0.6000 - val_accuracy: 0.7150\n",
      "Epoch 9/10\n",
      "981/981 [==============================] - 24s 24ms/sample - loss: 0.6157 - accuracy: 0.6993 - val_loss: 0.5996 - val_accuracy: 0.7150\n",
      "Epoch 10/10\n",
      "981/981 [==============================] - 25s 26ms/sample - loss: 0.6146 - accuracy: 0.6993 - val_loss: 0.5993 - val_accuracy: 0.7150\n"
     ]
    }
   ],
   "source": [
    "history = model.fit(x_train, y_train,\n",
    "                    epochs=10,\n",
    "                    batch_size=11,\n",
    "                    validation_data=(x_test, y_test)\n",
    "                   )"
   ]
  },
  {
   "cell_type": "code",
   "execution_count": 15,
   "metadata": {},
   "outputs": [
    {
     "data": {
      "image/png": "[encoded data removed]",
      "text/plain": [
       "<Figure size 432x288 with 1 Axes>"
      ]
     },
     "metadata": {
      "needs_background": "light"
     },
     "output_type": "display_data"
    },
    {
     "data": {
      "image/png": "[encoded data removed]",
      "text/plain": [
       "<Figure size 432x288 with 1 Axes>"
      ]
     },
     "metadata": {
      "needs_background": "light"
     },
     "output_type": "display_data"
    }
   ],
   "source": [
    "accuracy = history.history['accuracy']\n",
    "val_accuracy = history.history['val_accuracy']\n",
    "loss = history.history['loss']\n",
    "val_loss = history.history['val_loss']\n",
    "\n",
    "epochs = range(1, len(accuracy) + 1)\n",
    "\n",
    "plt.plot(epochs, loss, 'bo', label='Training loss')\n",
    "plt.plot(epochs, val_loss, 'orange', label='Validation loss')\n",
    "plt.title('Training and validation loss')\n",
    "plt.legend()\n",
    "\n",
    "plt.figure()\n",
    "\n",
    "plt.plot(epochs, accuracy, 'bo', label='Training accuracy')\n",
    "plt.plot(epochs, val_accuracy, 'orange', label='Validation accuracy')\n",
    "plt.title('Training and validation accuracy')\n",
    "plt.legend()\n",
    "\n",
    "plt.show()"
   ]
  },
  {
   "cell_type": "code",
   "execution_count": 16,
   "metadata": {},
   "outputs": [],
   "source": [
    "# LSTM model\n",
    "model = models.Sequential()\n",
    "model.add(layers.Embedding(ind.shape[0]+3, 8))\n",
    "model.add(layers.LSTM(8, dropout=0.3, recurrent_dropout=0.2, kernel_regularizer=l2(0.1), return_sequences=True))\n",
    "model.add(layers.Dense(1, activation='sigmoid'))"
   ]
  },
  {
   "cell_type": "code",
   "execution_count": 17,
   "metadata": {},
   "outputs": [],
   "source": [
    "model.compile(optimizer='rmsprop', loss='binary_crossentropy', metrics=['accuracy'])"
   ]
  },
  {
   "cell_type": "code",
   "execution_count": 18,
   "metadata": {},
   "outputs": [
    {
     "name": "stdout",
     "output_type": "stream",
     "text": [
      "Train on 981 samples, validate on 421 samples\n",
      "Epoch 1/10\n",
      "981/981 [==============================] - 25s 25ms/sample - loss: 1.5737 - accuracy: 0.6993 - val_loss: 1.2232 - val_accuracy: 0.7150\n",
      "Epoch 2/10\n",
      "981/981 [==============================] - 35s 36ms/sample - loss: 1.0206 - accuracy: 0.6993 - val_loss: 0.8283 - val_accuracy: 0.7150\n",
      "Epoch 3/10\n",
      "981/981 [==============================] - 28s 29ms/sample - loss: 0.7494 - accuracy: 0.6993 - val_loss: 0.6523 - val_accuracy: 0.7150\n",
      "Epoch 4/10\n",
      "981/981 [==============================] - 24s 24ms/sample - loss: 0.6341 - accuracy: 0.6993 - val_loss: 0.6023 - val_accuracy: 0.7150\n",
      "Epoch 5/10\n",
      "981/981 [==============================] - 26s 26ms/sample - loss: 0.6168 - accuracy: 0.6993 - val_loss: 0.5993 - val_accuracy: 0.7150\n",
      "Epoch 6/10\n",
      "981/981 [==============================] - 29s 30ms/sample - loss: 0.6149 - accuracy: 0.6993 - val_loss: 0.5985 - val_accuracy: 0.7150\n",
      "Epoch 7/10\n",
      "981/981 [==============================] - 27s 27ms/sample - loss: 0.6130 - accuracy: 0.6993 - val_loss: 0.5985 - val_accuracy: 0.7150\n",
      "Epoch 8/10\n",
      "981/981 [==============================] - 44s 45ms/sample - loss: 0.6107 - accuracy: 0.6993 - val_loss: 0.5984 - val_accuracy: 0.7150\n",
      "Epoch 9/10\n",
      "981/981 [==============================] - 28s 28ms/sample - loss: 0.6143 - accuracy: 0.6993 - val_loss: 0.5985 - val_accuracy: 0.7150\n",
      "Epoch 10/10\n",
      "981/981 [==============================] - 25s 26ms/sample - loss: 0.6145 - accuracy: 0.6993 - val_loss: 0.5994 - val_accuracy: 0.7150\n"
     ]
    }
   ],
   "source": [
    "history = model.fit(x_train, y_train,\n",
    "                    epochs=10,\n",
    "                    batch_size=11,\n",
    "                    validation_data=(x_test, y_test)\n",
    "                   )"
   ]
  },
  {
   "cell_type": "code",
   "execution_count": 19,
   "metadata": {},
   "outputs": [
    {
     "data": {
      "image/png": "[encoded data removed]",
      "text/plain": [
       "<Figure size 432x288 with 1 Axes>"
      ]
     },
     "metadata": {
      "needs_background": "light"
     },
     "output_type": "display_data"
    },
    {
     "data": {
      "image/png": "[encoded data removed]",
      "text/plain": [
       "<Figure size 432x288 with 1 Axes>"
      ]
     },
     "metadata": {
      "needs_background": "light"
     },
     "output_type": "display_data"
    }
   ],
   "source": [
    "accuracy = history.history['accuracy']\n",
    "val_accuracy = history.history['val_accuracy']\n",
    "loss = history.history['loss']\n",
    "val_loss = history.history['val_loss']\n",
    "\n",
    "epochs = range(1, len(accuracy) + 1)\n",
    "\n",
    "plt.plot(epochs, loss, 'bo', label='Training loss')\n",
    "plt.plot(epochs, val_loss, 'orange', label='Validation loss')\n",
    "plt.title('Training and validation loss')\n",
    "plt.legend()\n",
    "\n",
    "plt.figure()\n",
    "\n",
    "plt.plot(epochs, accuracy, 'bo', label='Training accuracy')\n",
    "plt.plot(epochs, val_accuracy, 'orange', label='Validation accuracy')\n",
    "plt.title('Training and validation accuracy')\n",
    "plt.legend()\n",
    "\n",
    "plt.show()"
   ]
  },
  {
   "cell_type": "code",
   "execution_count": 21,
   "metadata": {},
   "outputs": [
    {
     "data": {
      "text/plain": [
       "0.7149643705463183"
      ]
     },
     "execution_count": 21,
     "metadata": {},
     "output_type": "execute_result"
    }
   ],
   "source": [
    "sum(y_test)/len(y_test)"
   ]
  }
 ],
 "metadata": {
  "kernelspec": {
   "display_name": "Python 3",
   "language": "python",
   "name": "python3"
  },
  "language_info": {
   "codemirror_mode": {
    "name": "ipython",
    "version": 3
   },
   "file_extension": ".py",
   "mimetype": "text/x-python",
   "name": "python",
   "nbconvert_exporter": "python",
   "pygments_lexer": "ipython3",
   "version": "3.7.4"
  }
 },
 "nbformat": 4,
 "nbformat_minor": 4
}
